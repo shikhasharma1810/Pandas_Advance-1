{
 "cells": [
  {
   "cell_type": "code",
   "execution_count": null,
   "id": "76e629f1-b952-4613-b7ab-9a10177dd8f3",
   "metadata": {},
   "outputs": [],
   "source": [
    "1. List any five functions of the pandas library with execution.\n",
    "\n",
    "Pandas head() Function: This function is used to return the top n (5 by default) values of a data frame or series.\n",
    "Pandas tail() Function: This method is used to return the bottom n (5 by default) rows of a data frame or series.\n",
    "Pandas dtypes() Function: This method returns a Series with the data type of each column.\n",
    "Pandas describe() Function: Returns descriptive statistics about the data like mean, minimum, maximum, standard deviation, etc.\n",
    "Pandas unique() Function: It returns all the unique values in a particular column."
   ]
  },
  {
   "cell_type": "code",
   "execution_count": 1,
   "id": "75cca550-5be9-412d-b652-d2d823d5b474",
   "metadata": {},
   "outputs": [],
   "source": [
    "import pandas as p\n",
    "var=(21,23,43,65,76,89,72,59,90,110)\n",
    "lt = p.Series(var)"
   ]
  },
  {
   "cell_type": "code",
   "execution_count": 6,
   "id": "b56453c0-93e3-4bf3-a2c0-331a88453c39",
   "metadata": {},
   "outputs": [
    {
     "data": {
      "text/plain": [
       "0    21\n",
       "1    23\n",
       "2    43\n",
       "3    65\n",
       "4    76\n",
       "dtype: int64"
      ]
     },
     "execution_count": 6,
     "metadata": {},
     "output_type": "execute_result"
    }
   ],
   "source": [
    "lt.head()"
   ]
  },
  {
   "cell_type": "code",
   "execution_count": 7,
   "id": "04791142-d9c4-4a7b-ad44-1cf629a3a0d5",
   "metadata": {},
   "outputs": [
    {
     "data": {
      "text/plain": [
       "5     89\n",
       "6     72\n",
       "7     59\n",
       "8     90\n",
       "9    110\n",
       "dtype: int64"
      ]
     },
     "execution_count": 7,
     "metadata": {},
     "output_type": "execute_result"
    }
   ],
   "source": [
    "lt.tail()"
   ]
  },
  {
   "cell_type": "code",
   "execution_count": 9,
   "id": "4f270ce6-648f-45a8-ae2c-255d15c4f7a7",
   "metadata": {},
   "outputs": [
    {
     "data": {
      "text/plain": [
       "count     10.000000\n",
       "mean      64.800000\n",
       "std       29.089135\n",
       "min       21.000000\n",
       "25%       47.000000\n",
       "50%       68.500000\n",
       "75%       85.750000\n",
       "max      110.000000\n",
       "dtype: float64"
      ]
     },
     "execution_count": 9,
     "metadata": {},
     "output_type": "execute_result"
    }
   ],
   "source": [
    "lt.describe()"
   ]
  },
  {
   "cell_type": "code",
   "execution_count": 10,
   "id": "213df1bb-14dd-44ce-bdec-981e0963d436",
   "metadata": {},
   "outputs": [
    {
     "data": {
      "text/plain": [
       "dtype('int64')"
      ]
     },
     "execution_count": 10,
     "metadata": {},
     "output_type": "execute_result"
    }
   ],
   "source": [
    "lt.dtypes"
   ]
  },
  {
   "cell_type": "code",
   "execution_count": 4,
   "id": "b6b2ba7f-edc5-49cf-88d3-caceec05d82f",
   "metadata": {},
   "outputs": [
    {
     "data": {
      "text/plain": [
       "array([ 21,  23,  43,  65,  76,  89,  72,  59,  90, 110])"
      ]
     },
     "execution_count": 4,
     "metadata": {},
     "output_type": "execute_result"
    }
   ],
   "source": [
    "lt.unique()"
   ]
  },
  {
   "cell_type": "code",
   "execution_count": null,
   "id": "06e63b19-e478-40e5-bea9-43d56c052c01",
   "metadata": {},
   "outputs": [],
   "source": [
    "2. Given a Pandas DataFrame df with columns 'A', 'B', and 'C', write a Python function to re-index the\n",
    "DataFrame with a new index that starts from 1 and increments by 2 for each row."
   ]
  },
  {
   "cell_type": "code",
   "execution_count": 35,
   "id": "3a719a7b-0ad8-422c-a58b-f2afa1f570c2",
   "metadata": {},
   "outputs": [
    {
     "name": "stdout",
     "output_type": "stream",
     "text": [
      "before re-indexing \n",
      "         A   B       C\n",
      "0   Alice  25  Female\n",
      "1     Bob  30    Male\n",
      "2  Claire  27  Female\n",
      "3  Alisha  23  Female\n",
      "4  Shikha  27  Female\n",
      "\n",
      " after re-indexing \n",
      "         A     B       C\n",
      "1     Bob  30.0    Male\n",
      "3  Alisha  23.0  Female\n",
      "5     NaN   NaN     NaN\n",
      "7     NaN   NaN     NaN\n",
      "9     NaN   NaN     NaN\n"
     ]
    }
   ],
   "source": [
    "import pandas as pd \n",
    "data = [['Alice', 25, 'Female'],['Bob', 30, 'Male'],['Claire', 27, 'Female'],['Alisha',23,'Female'],['Shikha',27,'Female']]\n",
    "indx=[0,1,2,3,4]\n",
    "df = pd.DataFrame(data,index=indx,columns=['A', 'B', 'C'])\n",
    "print('before re-indexing \\n',df)\n",
    "re_indx=[1,3,5,7,9]\n",
    "nw_df=df.reindex(re_indx)\n",
    "print('\\n after re-indexing \\n',nw_df)"
   ]
  },
  {
   "cell_type": "code",
   "execution_count": null,
   "id": "94f79794-3fb3-4627-ab8c-5d1b6b0bc5d9",
   "metadata": {},
   "outputs": [],
   "source": [
    "3. You have a Pandas DataFrame df with a column named 'Values'. Write a Python function that\n",
    "iterates over the DataFrame and calculates the sum of the first three values in the 'Values' column. The\n",
    "function should print the sum to the console.\n",
    "For example, if the 'Values' column of df contains the values [10, 20, 30, 40, 50], your function should\n",
    "calculate and print the sum of the first three values, which is 60."
   ]
  },
  {
   "cell_type": "code",
   "execution_count": 5,
   "id": "4ed08738-ed99-48dd-b2b0-7e6efeb68ac9",
   "metadata": {},
   "outputs": [
    {
     "name": "stdout",
     "output_type": "stream",
     "text": [
      "   Values\n",
      "0      10\n",
      "1      20\n",
      "2      30\n",
      "3      40\n",
      "4      50\n",
      "The sum of the first three values- 60\n"
     ]
    }
   ],
   "source": [
    "import pandas as pd\n",
    "data=[10, 20, 30, 40, 50]\n",
    "df = pd.DataFrame(data, columns=['Values'])\n",
    "print(df)\n",
    "sum = df['Values'][0:3].sum()\n",
    "print('The sum of the first three values-', sum)"
   ]
  },
  {
   "cell_type": "code",
   "execution_count": null,
   "id": "1bcb6053-a3e6-48e0-981e-106dee0a8098",
   "metadata": {},
   "outputs": [],
   "source": [
    "4. Given a Pandas DataFrame df with a column 'Text', write a Python function to create a new column\n",
    "'Word_Count' that contains the number of words in each row of the 'Text' column."
   ]
  },
  {
   "cell_type": "code",
   "execution_count": 8,
   "id": "6060807e-905d-4815-95aa-0dd427d8c9b1",
   "metadata": {},
   "outputs": [
    {
     "name": "stdout",
     "output_type": "stream",
     "text": [
      "             Text  Word_Count\n",
      "0   Shikha Sharma           2\n",
      "1           Kumar           1\n",
      "2  Karuni Kaushik           2\n",
      "3            Vats           1\n"
     ]
    }
   ],
   "source": [
    "import pandas as pd\n",
    "data=['Shikha Sharma','Kumar','Karuni Kaushik','Vats']\n",
    "df=pd.DataFrame(data,columns=['Text'])\n",
    "df['Word_Count']=df['Text'].apply(lambda x: len(x.split()))\n",
    "print(df)"
   ]
  },
  {
   "cell_type": "code",
   "execution_count": null,
   "id": "ea3d3015-6b05-4f7b-aad0-b770b4589de7",
   "metadata": {},
   "outputs": [],
   "source": [
    "5. How are DataFrame.size() and DataFrame.shape() different?\n",
    "\n",
    "The size() function returns the total number of elements in a DataFrame, while the shape() function \n",
    "returns a tuple of the number of rows and columns in the DataFrame.\n",
    "For example, consider the following DataFrame:"
   ]
  },
  {
   "cell_type": "code",
   "execution_count": 4,
   "id": "a70d54b6-ad6d-4197-b51b-66fc4c411704",
   "metadata": {},
   "outputs": [
    {
     "name": "stdout",
     "output_type": "stream",
     "text": [
      "   A  B\n",
      "0  1  4\n",
      "1  2  5\n",
      "2  3  6\n",
      "\n",
      " 6\n",
      "(3, 2)\n"
     ]
    }
   ],
   "source": [
    "import pandas as pd\n",
    "df = pd.DataFrame({'A': [1, 2, 3], 'B': [4, 5, 6]})\n",
    "print(df)\n",
    "print('\\n',df.size)\n",
    "print(df.shape)"
   ]
  },
  {
   "cell_type": "code",
   "execution_count": null,
   "id": "eda15df7-181b-479a-a44f-aaa8b58ebb8f",
   "metadata": {},
   "outputs": [],
   "source": [
    "6. Which function of pandas do we use to read an excel file?\n",
    "\n",
    "To read an excel file in pandas, we use the read_excel() function. This function takes the \n",
    "path to the excel file as an argument and returns a Pandas DataFrame object. The DataFrame \n",
    "object is a two-dimensional tabular data structure that is similar to an Excel spreadsheet.\n",
    "The read_excel() function has a number of optional parameters that can be used to control \n",
    "how the data is read. For example, the sheet_name parameter can be used to specify the name\n",
    "of the sheet in the excel file that we want to read. The header parameter can be used to \n",
    "specify whether or not the first row of the excel file contains column names.\n",
    "\n",
    "Here is an example of how to use the read_excel() function to read an excel file:"
   ]
  },
  {
   "cell_type": "code",
   "execution_count": null,
   "id": "cde96698-adcb-4a6e-a47d-9817b644d027",
   "metadata": {},
   "outputs": [],
   "source": [
    "import pandas as pd\n",
    "\n",
    "# Read the excel file into a Pandas DataFrame\n",
    "df = pd.read_excel('path/to/file.xlsx')\n",
    "\n",
    "# Display the DataFrame\n",
    "print(df)"
   ]
  },
  {
   "cell_type": "code",
   "execution_count": null,
   "id": "64d85ac7-df9c-4849-a3b2-d890e65ae856",
   "metadata": {},
   "outputs": [],
   "source": [
    "This code will read the excel file at the specified path and print the DataFrame to the console.\n",
    "The read_excel() function is a powerful tool for reading and manipulating data in excel files. \n",
    "It is a popular choice for data scientists and analysts who need to work with data in this format."
   ]
  },
  {
   "cell_type": "code",
   "execution_count": null,
   "id": "2394c5ab-2356-420c-a12a-6e0e63902d18",
   "metadata": {},
   "outputs": [],
   "source": [
    "7. You have a Pandas DataFrame df that contains a column named 'Email' that contains email\n",
    "addresses in the format 'username@domain.com'. Write a Python function that creates a new column\n",
    "'Username' in df that contains only the username part of each email address.\n",
    "The username is the part of the email address that appears before the '@' symbol. For example, if the\n",
    "email address is 'john.doe@example.com', the 'Username' column should contain 'john.doe'. Your\n",
    "function should extract the username from each email address and store it in the new 'Username'\n",
    "column."
   ]
  },
  {
   "cell_type": "code",
   "execution_count": 29,
   "id": "c05aed53-980a-44b6-82e3-95e2d4408397",
   "metadata": {},
   "outputs": [
    {
     "name": "stdout",
     "output_type": "stream",
     "text": [
      "                    Email    Username\n",
      "0  Alice12@rediffmail.com     Alice12\n",
      "1     Bob.joe@outlook.com     Bob.joe\n",
      "2    Claire.fox@gmail.com  Claire.fox\n"
     ]
    }
   ],
   "source": [
    "import pandas as pd\n",
    "data = {'Email':['Alice12@rediffmail.com', 'Bob.joe@outlook.com','Claire.fox@gmail.com']}\n",
    "df = pd.DataFrame(data)\n",
    "df['Username']=df['Email'].str.split('@').str[0]\n",
    "print(df)"
   ]
  },
  {
   "cell_type": "code",
   "execution_count": null,
   "id": "c0253e87-049b-4070-9f12-7b3eab9f52fa",
   "metadata": {},
   "outputs": [],
   "source": [
    "8. You have a Pandas DataFrame df with columns 'A', 'B', and 'C'. Write a Python function that selects\n",
    "all rows where the value in column 'A' is greater than 5 and the value in column 'B' is less than 10. The\n",
    "function should return a new DataFrame that contains only the selected rows.\n",
    "For example, if df contains the following values:\n",
    "  A B C\n",
    "0 3 5 1\n",
    "1 8 2 7\n",
    "2 6 9 4\n",
    "3 2 3 5\n",
    "4 9 1 2\n",
    "Your function should select the following rows: A B C\n",
    "1 8 2 7\n",
    "2 6 9 4\n",
    "4 9 1 2\n",
    "The function should return a new DataFrame that contains only the selected rows."
   ]
  },
  {
   "cell_type": "code",
   "execution_count": 70,
   "id": "80861247-8988-4be3-9c88-ea013ac1dd8f",
   "metadata": {},
   "outputs": [
    {
     "name": "stdout",
     "output_type": "stream",
     "text": [
      "   A  B  C\n",
      "0  3  5  1\n",
      "1  8  2  7\n",
      "2  6  9  4\n",
      "3  2  3  5\n",
      "4  9  1  2\n",
      "\n",
      "\n",
      "   A  B  C\n",
      "1  8  2  7\n",
      "2  6  9  4\n",
      "4  9  1  2\n"
     ]
    }
   ],
   "source": [
    "import pandas as pd\n",
    "data = [[3,5,1],[8,2,7],[6,9,4],[2,3,5],[9,1,2]]\n",
    "df = pd.DataFrame(data,columns=['A','B','C'])\n",
    "new_df = df[(df['A']>5) & (df['B']<10)]\n",
    "print(df)\n",
    "print('\\n')\n",
    "print(new_df)"
   ]
  },
  {
   "cell_type": "code",
   "execution_count": 7,
   "id": "70445ec5-92bc-4823-a224-b62727e62f03",
   "metadata": {},
   "outputs": [],
   "source": [
    "9. Given a Pandas DataFrame df with a column 'Values', write a Python function to calculate the mean,\n",
    "median, and standard deviation of the values in the 'Values' column."
   ]
  },
  {
   "cell_type": "code",
   "execution_count": 7,
   "id": "6c42a321-8678-47a1-b851-fc1a13264f87",
   "metadata": {},
   "outputs": [
    {
     "name": "stdout",
     "output_type": "stream",
     "text": [
      "   Values\n",
      "0      23\n",
      "1      45\n",
      "2      41\n",
      "3      78\n",
      "4      56\n",
      "5      90\n",
      "6      56\n",
      "7      83\n",
      "8      98\n"
     ]
    }
   ],
   "source": [
    "import pandas as pd\n",
    "data={'Values':[23,45,41,78,56,90,56,83,98]}\n",
    "df = pd.DataFrame(data)\n",
    "print(df)"
   ]
  },
  {
   "cell_type": "code",
   "execution_count": 8,
   "id": "582157aa-d34f-4d18-b601-5b98ed1c8ac8",
   "metadata": {},
   "outputs": [
    {
     "name": "stdout",
     "output_type": "stream",
     "text": [
      "Values    63.333333\n",
      "dtype: float64\n"
     ]
    }
   ],
   "source": [
    "Mean = df.mean()\n",
    "print(Mean)"
   ]
  },
  {
   "cell_type": "code",
   "execution_count": 9,
   "id": "c667ea81-e38a-4523-9d73-7ece3fdcf3a4",
   "metadata": {},
   "outputs": [
    {
     "name": "stdout",
     "output_type": "stream",
     "text": [
      "Values    56.0\n",
      "dtype: float64\n"
     ]
    }
   ],
   "source": [
    "Median = df.median()\n",
    "print(Median)"
   ]
  },
  {
   "cell_type": "code",
   "execution_count": 10,
   "id": "fab6c82a-afce-425f-8dad-48f88db4a008",
   "metadata": {},
   "outputs": [
    {
     "name": "stdout",
     "output_type": "stream",
     "text": [
      "Values    25.209125\n",
      "dtype: float64\n"
     ]
    }
   ],
   "source": [
    "std_dev = df.std()\n",
    "print(std_dev)"
   ]
  },
  {
   "cell_type": "code",
   "execution_count": null,
   "id": "3561a69b-80c7-43f9-abcf-1c185030fcf2",
   "metadata": {},
   "outputs": [],
   "source": [
    "10. Given a Pandas DataFrame df with a column 'Sales' and a column 'Date', write a Python function to\n",
    "create a new column 'MovingAverage' that contains the moving average of the sales for the past 7 days\n",
    "for each row in the DataFrame. The moving average should be calculated using a window of size 7 and\n",
    "should include the current day."
   ]
  },
  {
   "cell_type": "code",
   "execution_count": 36,
   "id": "fecb8f38-1e30-45a9-a70b-360b0ecd5c48",
   "metadata": {},
   "outputs": [
    {
     "name": "stdout",
     "output_type": "stream",
     "text": [
      "   Sales       Date  MovingAverage\n",
      "0  25000 2024-01-01   25000.000000\n",
      "1  20000 2024-01-02   22500.000000\n",
      "2   8500 2024-01-03   17833.333333\n",
      "3  56890 2024-01-04   27597.500000\n",
      "4   1200 2024-01-05   22318.000000\n",
      "5  34567 2024-01-06   24359.500000\n",
      "6  23890 2024-01-07   24292.428571\n"
     ]
    }
   ],
   "source": [
    "import pandas as pd \n",
    "date = pd.date_range(start='2024-01-01', end='2024-01-07')\n",
    "data={'Sales': [25000,20000,8500,56890,1200,34567,23890],'Date': date}\n",
    "df = pd.DataFrame(data)\n",
    "df['MovingAverage'] = df['Sales'].rolling(window=7, min_periods=1).mean()\n",
    "print(df)"
   ]
  },
  {
   "cell_type": "code",
   "execution_count": null,
   "id": "0b41e0ca-3c62-40d5-939c-8b88f262dbf6",
   "metadata": {},
   "outputs": [],
   "source": [
    "11. You have a Pandas DataFrame df with a column 'Date'. Write a Python function that creates a new\n",
    "column 'Weekday' in the DataFrame. The 'Weekday' column should contain the weekday name (e.g.\n",
    "Monday, Tuesday) corresponding to each date in the 'Date' column.\n",
    "For example, if df contains the following values:\n",
    "Date\n",
    "0 2023-01-01\n",
    "1 2023-01-02\n",
    "2 2023-01-03\n",
    "3 2023-01-04\n",
    "4 2023-01-05\n",
    "Your function should create the following DataFrame:\n",
    "\n",
    "Date Weekday\n",
    "0 2023-01-01 Sunday\n",
    "1 2023-01-02 Monday\n",
    "2 2023-01-03 Tuesday\n",
    "3 2023-01-04 Wednesday\n",
    "4 2023-01-05 Thursday\n",
    "The function should return the modified DataFrame."
   ]
  },
  {
   "cell_type": "code",
   "execution_count": 34,
   "id": "a9fb1156-3d05-4366-b6a5-e768e9d6599c",
   "metadata": {},
   "outputs": [
    {
     "name": "stdout",
     "output_type": "stream",
     "text": [
      "        Date    Weekday\n",
      "0 2024-01-01     Monday\n",
      "1 2024-01-02    Tuesday\n",
      "2 2024-01-03  Wednesday\n",
      "3 2024-01-04   Thursday\n",
      "4 2024-01-05     Friday\n"
     ]
    }
   ],
   "source": [
    "import pandas as pd\n",
    "\n",
    "date = pd.date_range(start='2024-01-01', end='2024-01-05')\n",
    "data = {'Date': date}\n",
    "df = pd.DataFrame(data)\n",
    "df['Weekday'] = df['Date'].dt.day_name()\n",
    "print(df)"
   ]
  },
  {
   "cell_type": "code",
   "execution_count": null,
   "id": "d2e5abaa-c929-47cc-b84a-cb8f8e00d504",
   "metadata": {},
   "outputs": [],
   "source": [
    "12. Given a Pandas DataFrame df with a column 'Date' that contains timestamps, write a Python\n",
    "function to select all rows where the date is between '2023-01-01' and '2023-01-31'."
   ]
  },
  {
   "cell_type": "code",
   "execution_count": 46,
   "id": "6af0ea01-e30b-4583-9df4-77cc0bcd7412",
   "metadata": {},
   "outputs": [],
   "source": [
    "import pandas as pd\n",
    "\n",
    "def select_rows_between_dates(df):\n",
    "    # Convert 'Date' column to datetime objects\n",
    "    df['Date'] = pd.to_datetime(df['Date'])\n",
    "    \n",
    "    # Define start and end dates for filtering\n",
    "    start_date = '2023-01-01'\n",
    "    end_date = '2023-01-31'\n",
    "    \n",
    "    # Boolean indexing to select rows between start and end dates\n",
    "    selected_rows = df[(df['Date'] >= start_date) & (df['Date'] <= end_date)]\n",
    "    \n",
    "    return selected_rows\n",
    "# Example usage:\n",
    "# Assuming df is your DataFrame with a column 'Date'\n",
    "# selected_rows = select_rows_between_dates(df)"
   ]
  },
  {
   "cell_type": "code",
   "execution_count": 47,
   "id": "8a960186-2088-4b41-aaf8-7e683e529cce",
   "metadata": {},
   "outputs": [
    {
     "data": {
      "text/html": [
       "<div>\n",
       "<style scoped>\n",
       "    .dataframe tbody tr th:only-of-type {\n",
       "        vertical-align: middle;\n",
       "    }\n",
       "\n",
       "    .dataframe tbody tr th {\n",
       "        vertical-align: top;\n",
       "    }\n",
       "\n",
       "    .dataframe thead th {\n",
       "        text-align: right;\n",
       "    }\n",
       "</style>\n",
       "<table border=\"1\" class=\"dataframe\">\n",
       "  <thead>\n",
       "    <tr style=\"text-align: right;\">\n",
       "      <th></th>\n",
       "      <th>Date</th>\n",
       "    </tr>\n",
       "  </thead>\n",
       "  <tbody>\n",
       "    <tr>\n",
       "      <th>0</th>\n",
       "      <td>2023-01-01</td>\n",
       "    </tr>\n",
       "    <tr>\n",
       "      <th>1</th>\n",
       "      <td>2023-01-02</td>\n",
       "    </tr>\n",
       "    <tr>\n",
       "      <th>2</th>\n",
       "      <td>2023-01-03</td>\n",
       "    </tr>\n",
       "    <tr>\n",
       "      <th>3</th>\n",
       "      <td>2023-01-04</td>\n",
       "    </tr>\n",
       "    <tr>\n",
       "      <th>4</th>\n",
       "      <td>2023-01-05</td>\n",
       "    </tr>\n",
       "    <tr>\n",
       "      <th>5</th>\n",
       "      <td>2023-01-06</td>\n",
       "    </tr>\n",
       "    <tr>\n",
       "      <th>6</th>\n",
       "      <td>2023-01-07</td>\n",
       "    </tr>\n",
       "    <tr>\n",
       "      <th>7</th>\n",
       "      <td>2023-01-08</td>\n",
       "    </tr>\n",
       "    <tr>\n",
       "      <th>8</th>\n",
       "      <td>2023-01-09</td>\n",
       "    </tr>\n",
       "    <tr>\n",
       "      <th>9</th>\n",
       "      <td>2023-01-10</td>\n",
       "    </tr>\n",
       "    <tr>\n",
       "      <th>10</th>\n",
       "      <td>2023-01-11</td>\n",
       "    </tr>\n",
       "    <tr>\n",
       "      <th>11</th>\n",
       "      <td>2023-01-12</td>\n",
       "    </tr>\n",
       "    <tr>\n",
       "      <th>12</th>\n",
       "      <td>2023-01-13</td>\n",
       "    </tr>\n",
       "    <tr>\n",
       "      <th>13</th>\n",
       "      <td>2023-01-14</td>\n",
       "    </tr>\n",
       "    <tr>\n",
       "      <th>14</th>\n",
       "      <td>2023-01-15</td>\n",
       "    </tr>\n",
       "    <tr>\n",
       "      <th>15</th>\n",
       "      <td>2023-01-16</td>\n",
       "    </tr>\n",
       "    <tr>\n",
       "      <th>16</th>\n",
       "      <td>2023-01-17</td>\n",
       "    </tr>\n",
       "    <tr>\n",
       "      <th>17</th>\n",
       "      <td>2023-01-18</td>\n",
       "    </tr>\n",
       "    <tr>\n",
       "      <th>18</th>\n",
       "      <td>2023-01-19</td>\n",
       "    </tr>\n",
       "    <tr>\n",
       "      <th>19</th>\n",
       "      <td>2023-01-20</td>\n",
       "    </tr>\n",
       "    <tr>\n",
       "      <th>20</th>\n",
       "      <td>2023-01-21</td>\n",
       "    </tr>\n",
       "    <tr>\n",
       "      <th>21</th>\n",
       "      <td>2023-01-22</td>\n",
       "    </tr>\n",
       "    <tr>\n",
       "      <th>22</th>\n",
       "      <td>2023-01-23</td>\n",
       "    </tr>\n",
       "    <tr>\n",
       "      <th>23</th>\n",
       "      <td>2023-01-24</td>\n",
       "    </tr>\n",
       "    <tr>\n",
       "      <th>24</th>\n",
       "      <td>2023-01-25</td>\n",
       "    </tr>\n",
       "    <tr>\n",
       "      <th>25</th>\n",
       "      <td>2023-01-26</td>\n",
       "    </tr>\n",
       "    <tr>\n",
       "      <th>26</th>\n",
       "      <td>2023-01-27</td>\n",
       "    </tr>\n",
       "    <tr>\n",
       "      <th>27</th>\n",
       "      <td>2023-01-28</td>\n",
       "    </tr>\n",
       "    <tr>\n",
       "      <th>28</th>\n",
       "      <td>2023-01-29</td>\n",
       "    </tr>\n",
       "    <tr>\n",
       "      <th>29</th>\n",
       "      <td>2023-01-30</td>\n",
       "    </tr>\n",
       "    <tr>\n",
       "      <th>30</th>\n",
       "      <td>2023-01-31</td>\n",
       "    </tr>\n",
       "  </tbody>\n",
       "</table>\n",
       "</div>"
      ],
      "text/plain": [
       "         Date\n",
       "0  2023-01-01\n",
       "1  2023-01-02\n",
       "2  2023-01-03\n",
       "3  2023-01-04\n",
       "4  2023-01-05\n",
       "5  2023-01-06\n",
       "6  2023-01-07\n",
       "7  2023-01-08\n",
       "8  2023-01-09\n",
       "9  2023-01-10\n",
       "10 2023-01-11\n",
       "11 2023-01-12\n",
       "12 2023-01-13\n",
       "13 2023-01-14\n",
       "14 2023-01-15\n",
       "15 2023-01-16\n",
       "16 2023-01-17\n",
       "17 2023-01-18\n",
       "18 2023-01-19\n",
       "19 2023-01-20\n",
       "20 2023-01-21\n",
       "21 2023-01-22\n",
       "22 2023-01-23\n",
       "23 2023-01-24\n",
       "24 2023-01-25\n",
       "25 2023-01-26\n",
       "26 2023-01-27\n",
       "27 2023-01-28\n",
       "28 2023-01-29\n",
       "29 2023-01-30\n",
       "30 2023-01-31"
      ]
     },
     "execution_count": 47,
     "metadata": {},
     "output_type": "execute_result"
    }
   ],
   "source": [
    "select_rows_between_dates(df)"
   ]
  },
  {
   "cell_type": "code",
   "execution_count": null,
   "id": "bca56b97-c106-4dfd-93d4-6a6ef3e03397",
   "metadata": {},
   "outputs": [],
   "source": [
    "13. To use the basic functions of pandas, what is the first and foremost necessary library that needs to\n",
    "be imported?\n",
    "\n",
    "If we are using PIP, then run the below command to install pandas module.\n",
    "pip install pandas\n",
    "\n",
    "To import Pandas and NumPy in our Python script, add the below piece of code:\n",
    "import pandas as pd\n",
    "import numpy as np\n",
    "\n",
    "As Pandas is dependent on the NumPy library, we need to import this dependency."
   ]
  }
 ],
 "metadata": {
  "kernelspec": {
   "display_name": "Python 3 (ipykernel)",
   "language": "python",
   "name": "python3"
  },
  "language_info": {
   "codemirror_mode": {
    "name": "ipython",
    "version": 3
   },
   "file_extension": ".py",
   "mimetype": "text/x-python",
   "name": "python",
   "nbconvert_exporter": "python",
   "pygments_lexer": "ipython3",
   "version": "3.10.8"
  }
 },
 "nbformat": 4,
 "nbformat_minor": 5
}
